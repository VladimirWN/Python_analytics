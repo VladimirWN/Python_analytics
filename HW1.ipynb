{
 "cells": [
  {
   "cell_type": "markdown",
   "id": "1439e9bf",
   "metadata": {},
   "source": [
    "## Условие 2:\n",
    "На складе лежат разные фрукты в разном количестве.\n",
    "Нужно написать функцию, которая на вход принимает любое количество названий фруктов и их количество, а возвращает общее количество фруктов на складе"
   ]
  },
  {
   "cell_type": "code",
   "execution_count": 23,
   "id": "8401a986",
   "metadata": {},
   "outputs": [],
   "source": [
    "def calc_fruit_amount(**kwargs):\n",
    "    result = 0\n",
    "    for i in kwargs.values():\n",
    "        result += i\n",
    "    return result"
   ]
  },
  {
   "cell_type": "code",
   "execution_count": 24,
   "id": "4905e974",
   "metadata": {},
   "outputs": [
    {
     "name": "stdout",
     "output_type": "stream",
     "text": [
      "30\n"
     ]
    }
   ],
   "source": [
    "print(calc_fruit_amount(banana = 10, orange = 5, pineapple = 15))"
   ]
  },
  {
   "cell_type": "markdown",
   "id": "8cacf980",
   "metadata": {},
   "source": [
    "## Условие 3:\n",
    "Дан список с затратами на рекламу. Но в данных есть ошибки, некоторые затраты имеют отрицательную величину. Удалите такие значения из списка и посчитайте суммарные затраты\n",
    "[100, 125, -90, 345, 655, -1, 0, 200]\n",
    "Используйте list comprehensions"
   ]
  },
  {
   "cell_type": "code",
   "execution_count": 25,
   "id": "0ed603d0",
   "metadata": {},
   "outputs": [],
   "source": [
    "some_prices = [100, 125, -90, 345, 655, -1, 0, 200]"
   ]
  },
  {
   "cell_type": "code",
   "execution_count": 28,
   "id": "e8d0bc1a",
   "metadata": {},
   "outputs": [
    {
     "name": "stdout",
     "output_type": "stream",
     "text": [
      "Total price: 1425\n"
     ]
    }
   ],
   "source": [
    "print(f'Total price: {sum([i for i in some_prices if i > 0])}')"
   ]
  },
  {
   "cell_type": "markdown",
   "id": "23bab36e",
   "metadata": {},
   "source": [
    "## Условие 4:\n",
    "Даны два списка.<br>\n",
    "Дата покупки<br>\n",
    "['2021-09-14', '2021-12-15', '2021-09-08', '2021-12-05', '2021-10-09', '2021-09-30', '2021-12-22', '2021-11-29', '2021-12-24', '2021-11-26', '2021-10-27', '2021-12-18', '2021-11-09', '2021-11-23', '2021-09-27', '2021-10-02', '2021-12-27', '2021-09-20', '2021-12-13', '2021-11-01', '2021-11-09', '2021-12-06', '2021-12-08', '2021-10-09', '2021-10-31', '2021-09-30', '2021-11-09', '2021-12-13', '2021-10-26', '2021-12-09']<br>\n",
    "Суммы покупок по датам<br>\n",
    "[1270, 8413, 9028, 3703, 5739, 4095, 295, 4944, 5723, 3701, 4471, 651, 7037, 4274, 6275, 4988, 6930, 2971, 6592, 2004, 2822, 519, 3406, 2732, 5015, 2008, 316, 6333, 5700, 2887]"
   ]
  },
  {
   "cell_type": "code",
   "execution_count": 29,
   "id": "aa4bfe83",
   "metadata": {},
   "outputs": [],
   "source": [
    "dates = ['2021-09-14', '2021-12-15', '2021-09-08', '2021-12-05', '2021-10-09', '2021-09-30', '2021-12-22', '2021-11-29', '2021-12-24', '2021-11-26', '2021-10-27', '2021-12-18', '2021-11-09', '2021-11-23', '2021-09-27', '2021-10-02', '2021-12-27', '2021-09-20', '2021-12-13', '2021-11-01', '2021-11-09', '2021-12-06', '2021-12-08', '2021-10-09', '2021-10-31', '2021-09-30', '2021-11-09', '2021-12-13', '2021-10-26', '2021-12-09']\n",
    "prices = [1270, 8413, 9028, 3703, 5739, 4095, 295, 4944, 5723, 3701, 4471, 651, 7037, 4274, 6275, 4988, 6930, 2971, 6592, 2004, 2822, 519, 3406, 2732, 5015, 2008, 316, 6333, 5700, 2887]"
   ]
  },
  {
   "cell_type": "markdown",
   "id": "c9a54c07",
   "metadata": {},
   "source": [
    "### 4.1 Найдите, какая выручка у компании в ноябре\n",
    "Используйте list comprehensions"
   ]
  },
  {
   "cell_type": "code",
   "execution_count": 61,
   "id": "8421af8c",
   "metadata": {},
   "outputs": [
    {
     "name": "stdout",
     "output_type": "stream",
     "text": [
      "Выручка в ноябре: 25098\n"
     ]
    }
   ],
   "source": [
    "dates_with_prices = zip(dates, prices)\n",
    "result = sum([i[1] for i in dates_with_prices if i[0].find(\"-11-\") > -1])\n",
    "print(f'Выручка в ноябре: {result}')"
   ]
  },
  {
   "cell_type": "markdown",
   "id": "2130bd44",
   "metadata": {},
   "source": [
    "### 4.2 Найдите выручку компании в зависимости от месяца\n",
    "Для этого напишите функцию, которая на вход принимает список с датами и список с выручкой, а на выходе словарь, где ключи - это месяцы, а значения - это выручка.<br>\n",
    "Используйте аннотирование типов."
   ]
  },
  {
   "cell_type": "code",
   "execution_count": 64,
   "id": "98b61629",
   "metadata": {},
   "outputs": [],
   "source": [
    "def calc_monthly_amount(dt: list, pr: list) -> dict:\n",
    "    result = dict()\n",
    "    for i in range(len(dt)):\n",
    "        month = dt[i][5:7]\n",
    "        if month not in result.keys():\n",
    "            result.setdefault(month, pr[i])\n",
    "        else:\n",
    "            result[month] = result.get(month) + pr[i]\n",
    "    return result"
   ]
  },
  {
   "cell_type": "code",
   "execution_count": 78,
   "id": "0482d78f",
   "metadata": {
    "scrolled": true
   },
   "outputs": [
    {
     "name": "stdout",
     "output_type": "stream",
     "text": [
      "[('09', 25647), ('10', 28645), ('11', 25098), ('12', 45452)]\n"
     ]
    }
   ],
   "source": [
    "monthly_amount = calc_monthly_amount(pr = prices, dt = dates)\n",
    "print(sorted(monthly_amount.items()))"
   ]
  }
 ],
 "metadata": {
  "kernelspec": {
   "display_name": "Python 3 (ipykernel)",
   "language": "python",
   "name": "python3"
  },
  "language_info": {
   "codemirror_mode": {
    "name": "ipython",
    "version": 3
   },
   "file_extension": ".py",
   "mimetype": "text/x-python",
   "name": "python",
   "nbconvert_exporter": "python",
   "pygments_lexer": "ipython3",
   "version": "3.10.4"
  }
 },
 "nbformat": 4,
 "nbformat_minor": 5
}
